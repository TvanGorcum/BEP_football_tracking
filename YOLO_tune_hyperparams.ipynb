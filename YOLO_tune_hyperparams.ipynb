{
 "cells": [
  {
   "cell_type": "markdown",
   "source": [
    "In this notebook. the .tune() function by ultralytics will be used to obtain reasonable hyperparameters that can be used for training the models"
   ],
   "metadata": {
    "collapsed": false
   }
  },
  {
   "cell_type": "code",
   "execution_count": 6,
   "outputs": [],
   "source": [
    "from ultralytics import YOLO\n",
    "import ultralytics"
   ],
   "metadata": {
    "collapsed": false
   }
  },
  {
   "cell_type": "code",
   "execution_count": null,
   "outputs": [],
   "source": [],
   "metadata": {
    "collapsed": false
   }
  },
  {
   "cell_type": "code",
   "execution_count": 10,
   "outputs": [
    {
     "name": "stdout",
     "output_type": "stream",
     "text": [
      "\u001B[34m\u001B[1mTuner: \u001B[0mInitialized Tuner instance with 'tune_dir=runs\\detect\\tune2'\n",
      "\u001B[34m\u001B[1mTuner: \u001B[0m Learn about tuning at https://docs.ultralytics.com/guides/hyperparameter-tuning\n",
      "\u001B[34m\u001B[1mTuner: \u001B[0mStarting iteration 1/2 with hyperparameters: {'lr0': 0.01, 'lrf': 0.01, 'momentum': 0.937, 'weight_decay': 0.0005, 'warmup_epochs': 3.0, 'warmup_momentum': 0.8, 'box': 7.5, 'cls': 0.5, 'dfl': 1.5, 'hsv_h': 0.015, 'hsv_s': 0.7, 'hsv_v': 0.4, 'degrees': 0.0, 'translate': 0.1, 'scale': 0.5, 'shear': 0.0, 'perspective': 0.0, 'flipud': 0.0, 'fliplr': 0.5, 'bgr': 0.0, 'mosaic': 1.0, 'mixup': 0.0, 'copy_paste': 0.0}\n",
      "Saved runs\\detect\\tune2\\tune_scatter_plots.png\n",
      "Saved runs\\detect\\tune2\\tune_fitness.png\n",
      "\n",
      "\u001B[34m\u001B[1mTuner: \u001B[0m1/2 iterations complete  (110.80s)\n",
      "\u001B[34m\u001B[1mTuner: \u001B[0mResults saved to \u001B[1mruns\\detect\\tune2\u001B[0m\n",
      "\u001B[34m\u001B[1mTuner: \u001B[0mBest fitness=0.00176 observed at iteration 1\n",
      "\u001B[34m\u001B[1mTuner: \u001B[0mBest fitness metrics are {'metrics/precision(B)': 0.00633, 'metrics/recall(B)': 0.00294, 'metrics/mAP50(B)': 0.00321, 'metrics/mAP50-95(B)': 0.0016, 'val/box_loss': nan, 'val/cls_loss': nan, 'val/dfl_loss': nan, 'fitness': 0.00176}\n",
      "\u001B[34m\u001B[1mTuner: \u001B[0mBest fitness model is runs\\detect\\train12\n",
      "\u001B[34m\u001B[1mTuner: \u001B[0mBest fitness hyperparameters are printed below.\n",
      "\n",
      "Printing '\u001B[1m\u001B[30mruns\\detect\\tune2\\best_hyperparameters.yaml\u001B[0m'\n",
      "\n",
      "lr0: 0.01\n",
      "lrf: 0.01\n",
      "momentum: 0.937\n",
      "weight_decay: 0.0005\n",
      "warmup_epochs: 3.0\n",
      "warmup_momentum: 0.8\n",
      "box: 7.5\n",
      "cls: 0.5\n",
      "dfl: 1.5\n",
      "hsv_h: 0.015\n",
      "hsv_s: 0.7\n",
      "hsv_v: 0.4\n",
      "degrees: 0.0\n",
      "translate: 0.1\n",
      "scale: 0.5\n",
      "shear: 0.0\n",
      "perspective: 0.0\n",
      "flipud: 0.0\n",
      "fliplr: 0.5\n",
      "bgr: 0.0\n",
      "mosaic: 1.0\n",
      "mixup: 0.0\n",
      "copy_paste: 0.0\n",
      "\n",
      "\u001B[34m\u001B[1mTuner: \u001B[0mStarting iteration 2/2 with hyperparameters: {'lr0': 0.01029, 'lrf': 0.01, 'momentum': 0.937, 'weight_decay': 0.0005, 'warmup_epochs': 3.02645, 'warmup_momentum': 0.82669, 'box': 7.68823, 'cls': 0.49699, 'dfl': 1.46929, 'hsv_h': 0.01488, 'hsv_s': 0.6989, 'hsv_v': 0.37938, 'degrees': 0.0, 'translate': 0.10091, 'scale': 0.54174, 'shear': 0.0, 'perspective': 0.0, 'flipud': 0.0, 'fliplr': 0.49687, 'bgr': 0.0, 'mosaic': 1.0, 'mixup': 0.0, 'copy_paste': 0.0}\n",
      "Saved runs\\detect\\tune2\\tune_scatter_plots.png\n",
      "Saved runs\\detect\\tune2\\tune_fitness.png\n",
      "\n",
      "\u001B[34m\u001B[1mTuner: \u001B[0m2/2 iterations complete  (222.45s)\n",
      "\u001B[34m\u001B[1mTuner: \u001B[0mResults saved to \u001B[1mruns\\detect\\tune2\u001B[0m\n",
      "\u001B[34m\u001B[1mTuner: \u001B[0mBest fitness=0.00184 observed at iteration 2\n",
      "\u001B[34m\u001B[1mTuner: \u001B[0mBest fitness metrics are {'metrics/precision(B)': 0.00658, 'metrics/recall(B)': 0.00294, 'metrics/mAP50(B)': 0.00336, 'metrics/mAP50-95(B)': 0.00167, 'val/box_loss': nan, 'val/cls_loss': nan, 'val/dfl_loss': nan, 'fitness': 0.00184}\n",
      "\u001B[34m\u001B[1mTuner: \u001B[0mBest fitness model is runs\\detect\\train13\n",
      "\u001B[34m\u001B[1mTuner: \u001B[0mBest fitness hyperparameters are printed below.\n",
      "\n",
      "Printing '\u001B[1m\u001B[30mruns\\detect\\tune2\\best_hyperparameters.yaml\u001B[0m'\n",
      "\n",
      "lr0: 0.01029\n",
      "lrf: 0.01\n",
      "momentum: 0.937\n",
      "weight_decay: 0.0005\n",
      "warmup_epochs: 3.02645\n",
      "warmup_momentum: 0.82669\n",
      "box: 7.68823\n",
      "cls: 0.49699\n",
      "dfl: 1.46929\n",
      "hsv_h: 0.01488\n",
      "hsv_s: 0.6989\n",
      "hsv_v: 0.37938\n",
      "degrees: 0.0\n",
      "translate: 0.10091\n",
      "scale: 0.54174\n",
      "shear: 0.0\n",
      "perspective: 0.0\n",
      "flipud: 0.0\n",
      "fliplr: 0.49687\n",
      "bgr: 0.0\n",
      "mosaic: 1.0\n",
      "mixup: 0.0\n",
      "copy_paste: 0.0\n",
      "\n"
     ]
    }
   ],
   "source": [
    "model = YOLO(\"yolov8n.pt\")\n",
    "model.tune(data=\"C:/Studie/BEP/BEP_Football_tracking/prototest_dataset/data.yaml\", epochs=10, iterations=2, optimizer=\"AdamW\", plots=False, save=False, val=False)"
   ],
   "metadata": {
    "collapsed": false
   }
  },
  {
   "cell_type": "code",
   "execution_count": null,
   "outputs": [],
   "source": [],
   "metadata": {
    "collapsed": false
   }
  },
  {
   "cell_type": "code",
   "execution_count": 7,
   "outputs": [
    {
     "name": "stdout",
     "output_type": "stream",
     "text": [
      "Ultralytics YOLOv8.2.100  Python-3.10.11 torch-2.4.1+cu118 CUDA:0 (Quadro T1000 with Max-Q Design, 4096MiB)\n",
      "Setup complete  (12 CPUs, 15.8 GB RAM, 392.8/471.6 GB disk)\n"
     ]
    }
   ],
   "source": [
    "ultralytics.checks()\n"
   ],
   "metadata": {
    "collapsed": false
   }
  },
  {
   "cell_type": "code",
   "execution_count": null,
   "outputs": [],
   "source": [],
   "metadata": {
    "collapsed": false
   }
  }
 ],
 "metadata": {
  "kernelspec": {
   "display_name": "Python 3",
   "language": "python",
   "name": "python3"
  },
  "language_info": {
   "codemirror_mode": {
    "name": "ipython",
    "version": 2
   },
   "file_extension": ".py",
   "mimetype": "text/x-python",
   "name": "python",
   "nbconvert_exporter": "python",
   "pygments_lexer": "ipython2",
   "version": "2.7.6"
  }
 },
 "nbformat": 4,
 "nbformat_minor": 0
}
