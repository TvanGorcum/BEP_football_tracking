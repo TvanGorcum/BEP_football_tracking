{
 "cells": [
  {
   "cell_type": "markdown",
   "source": [],
   "metadata": {
    "collapsed": false
   }
  },
  {
   "cell_type": "code",
   "execution_count": 1,
   "outputs": [],
   "source": [
    "import ultralytics\n",
    "from ultralytics import YOLO"
   ],
   "metadata": {
    "collapsed": false
   }
  },
  {
   "cell_type": "code",
   "execution_count": 4,
   "outputs": [],
   "source": [
    "model = YOLO(\"C:\\Studie\\BEP\\BEP_Football_tracking/YOLO_results/Ball10/best.pt\")"
   ],
   "metadata": {
    "collapsed": false
   }
  },
  {
   "cell_type": "code",
   "execution_count": 2,
   "outputs": [],
   "source": [
    "#model = YOLO('yolov10n.pt')"
   ],
   "metadata": {
    "collapsed": false
   }
  },
  {
   "cell_type": "code",
   "execution_count": 6,
   "outputs": [
    {
     "name": "stdout",
     "output_type": "stream",
     "text": [
      "Ultralytics 8.3.49  Python-3.10.11 torch-2.4.1+cu118 CUDA:0 (Quadro T1000 with Max-Q Design, 4096MiB)\n"
     ]
    },
    {
     "name": "stderr",
     "output_type": "stream",
     "text": [
      "\u001B[34m\u001B[1mval: \u001B[0mScanning C:\\Studie\\BEP\\BEP_Football_tracking\\Dataset_ball_eval\\labels.cache... 7500 images, 1071 backgrounds, 0 corrupt: 100%|██████████| 7500/7500 [00:00<?, ?it/s]\n",
      "                 Class     Images  Instances      Box(P          R      mAP50  mAP50-95): 100%|██████████| 469/469 [08:40<00:00,  1.11s/it]\n"
     ]
    },
    {
     "name": "stdout",
     "output_type": "stream",
     "text": [
      "                   all       7500       6510      0.682      0.543      0.613      0.274\n",
      "Speed: 1.6ms preprocess, 64.1ms inference, 0.0ms loss, 0.2ms postprocess per image\n",
      "Results saved to \u001B[1mC:\\Studie\\BEP\\BEP_Football_tracking\\Dataset_ball_eval\\resultsball\\confi001\\val2\u001B[0m\n"
     ]
    }
   ],
   "source": [
    "metrics = model.val(data='C:/Studie/BEP/BEP_Football_tracking/Dataset_ball_eval/ball.yaml', imgsz = 1920, conf = 0.1, plots = True, project = 'C:/Studie/BEP/BEP_Football_tracking/Dataset_ball_eval/resultsball/confi001', iou = 0.1)"
   ],
   "metadata": {
    "collapsed": false
   }
  },
  {
   "cell_type": "code",
   "execution_count": 4,
   "outputs": [
    {
     "name": "stdout",
     "output_type": "stream",
     "text": [
      "Ultralytics 8.3.49  Python-3.10.11 torch-2.4.1+cu118 CUDA:0 (Quadro T1000 with Max-Q Design, 4096MiB)\n"
     ]
    },
    {
     "name": "stderr",
     "output_type": "stream",
     "text": [
      "\u001B[34m\u001B[1mval: \u001B[0mScanning C:\\Studie\\BEP\\BEP_Football_tracking\\Dataset_ball_eval\\labels.cache... 7500 images, 1071 backgrounds, 0 corrupt: 100%|██████████| 7500/7500 [00:00<?, ?it/s]\n",
      "                 Class     Images  Instances      Box(P          R      mAP50  mAP50-95): 100%|██████████| 469/469 [08:29<00:00,  1.09s/it]"
     ]
    },
    {
     "name": "stdout",
     "output_type": "stream",
     "text": [
      "                   all       7500       6510          0          0          0          0\n"
     ]
    },
    {
     "name": "stderr",
     "output_type": "stream",
     "text": [
      "\n"
     ]
    },
    {
     "name": "stdout",
     "output_type": "stream",
     "text": [
      "Speed: 1.6ms preprocess, 63.7ms inference, 0.0ms loss, 0.2ms postprocess per image\n",
      "Results saved to \u001B[1mC:\\Studie\\BEP\\BEP_Football_tracking\\Dataset_ball_eval\\results\\val3\u001B[0m\n"
     ]
    }
   ],
   "source": [
    "#metrics = model.val(data='C:/Studie/BEP/BEP_Football_tracking/Dataset_ball_eval/ball.yaml', imgsz = 1920, conf = 0.1, max_det = 1, plots = True, project = 'C:/Studie/BEP/BEP_Football_tracking/Dataset_ball_eval/results', iou = 0.1, classes = [32])"
   ],
   "metadata": {
    "collapsed": false
   }
  },
  {
   "cell_type": "code",
   "execution_count": 7,
   "outputs": [
    {
     "name": "stdout",
     "output_type": "stream",
     "text": [
      "C:\\Users\\20212189\n"
     ]
    },
    {
     "name": "stderr",
     "output_type": "stream",
     "text": [
      "C:\\Studie\\venvs\\BEP_football_tracking\\lib\\site-packages\\IPython\\core\\magics\\osm.py:393: UserWarning: This is now an optional IPython functionality, using bookmarks requires you to install the `pickleshare` library.\n",
      "  bkms = self.shell.db.get('bookmarks', {})\n",
      "C:\\Studie\\venvs\\BEP_football_tracking\\lib\\site-packages\\IPython\\core\\magics\\osm.py:428: UserWarning: This is now an optional IPython functionality, setting dhist requires you to install the `pickleshare` library.\n",
      "  self.shell.db['dhist'] = compress_dhist(dhist)[-100:]\n"
     ]
    }
   ],
   "source": [
    "cd"
   ],
   "metadata": {
    "collapsed": false
   }
  },
  {
   "cell_type": "code",
   "execution_count": 3,
   "outputs": [
    {
     "data": {
      "text/plain": "{0: 'player', 1: 'referee', 2: 'goalkeepers'}"
     },
     "execution_count": 3,
     "metadata": {},
     "output_type": "execute_result"
    }
   ],
   "source": [
    "model.names"
   ],
   "metadata": {
    "collapsed": false
   }
  },
  {
   "cell_type": "code",
   "execution_count": null,
   "outputs": [],
   "source": [
    "'sports ball' 32"
   ],
   "metadata": {
    "collapsed": false
   }
  }
 ],
 "metadata": {
  "kernelspec": {
   "display_name": "Python 3",
   "language": "python",
   "name": "python3"
  },
  "language_info": {
   "codemirror_mode": {
    "name": "ipython",
    "version": 2
   },
   "file_extension": ".py",
   "mimetype": "text/x-python",
   "name": "python",
   "nbconvert_exporter": "python",
   "pygments_lexer": "ipython2",
   "version": "2.7.6"
  }
 },
 "nbformat": 4,
 "nbformat_minor": 0
}
