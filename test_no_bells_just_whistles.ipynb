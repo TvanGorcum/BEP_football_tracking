{
 "cells": [
  {
   "cell_type": "code",
   "execution_count": 3,
   "metadata": {
    "collapsed": true
   },
   "outputs": [],
   "source": [
    "import torch"
   ]
  },
  {
   "cell_type": "code",
   "execution_count": 4,
   "outputs": [
    {
     "ename": "SyntaxError",
     "evalue": "invalid syntax (342060018.py, line 2)",
     "output_type": "error",
     "traceback": [
      "\u001B[1;36m  Cell \u001B[1;32mIn[4], line 2\u001B[1;36m\u001B[0m\n\u001B[1;33m    python inference.py --weights_kp \"../../Weights/no_bells_just_whistles/SV_kp\" --weights_line \"../../Weights/no_bells_just_whistles/SV_lines\" --input_path \"examples/nl_example.png\" --input_type \"image\" --save_path \"results/nl_example_results.png\"\u001B[0m\n\u001B[1;37m           ^\u001B[0m\n\u001B[1;31mSyntaxError\u001B[0m\u001B[1;31m:\u001B[0m invalid syntax\n"
     ]
    }
   ],
   "source": [
    "#run this code in the terminal to run script  with output image with annotated lines\n",
    "python inference.py --weights_kp \"../../Weights/no_bells_just_whistles/SV_kp\" --weights_line \"../../Weights/no_bells_just_whistles/SV_lines\" --input_path \"examples/nl_example.png\" --input_type \"image\" --save_path \"results/nl_example_results.png\""
   ],
   "metadata": {
    "collapsed": false
   }
  },
  {
   "cell_type": "code",
   "execution_count": 15,
   "outputs": [
    {
     "ename": "SyntaxError",
     "evalue": "invalid syntax (3269202406.py, line 1)",
     "output_type": "error",
     "traceback": [
      "\u001B[1;36m  Cell \u001B[1;32mIn[15], line 1\u001B[1;36m\u001B[0m\n\u001B[1;33m    python inference.py --weights_kp \"../../Weights/no_bells_just_whistles/SV_kp\" --weights_line \"../../Weights/no_bells_just_whistles/SV_lines\" --input_path \"C:/Studie/BEP/BEP_Football_tracking/sample_nl_match.mp4\" --input_type \"video\" --display --save_path \"results/nl_sample.mp4\"\u001B[0m\n\u001B[1;37m           ^\u001B[0m\n\u001B[1;31mSyntaxError\u001B[0m\u001B[1;31m:\u001B[0m invalid syntax\n"
     ]
    }
   ],
   "source": [
    "python inference.py --weights_kp \"../../Weights/no_bells_just_whistles/SV_kp\" --weights_line \"../../Weights/no_bells_just_whistles/SV_lines\" --input_path \"C:/Studie/BEP/BEP_Football_tracking/PSV_shaktar_demo_boxes.mp4\" --input_type \"video\" --display --save_path \"results/PSV_shaktar_demo_boxes.mp4\""
   ],
   "metadata": {
    "collapsed": false
   }
  },
  {
   "cell_type": "code",
   "execution_count": 3,
   "outputs": [
    {
     "data": {
      "text/plain": "True"
     },
     "execution_count": 3,
     "metadata": {},
     "output_type": "execute_result"
    }
   ],
   "source": [
    "torch.cuda.is_available()"
   ],
   "metadata": {
    "collapsed": false
   }
  },
  {
   "cell_type": "code",
   "execution_count": 15,
   "outputs": [
    {
     "ename": "SyntaxError",
     "evalue": "invalid syntax (3637615431.py, line 1)",
     "output_type": "error",
     "traceback": [
      "\u001B[1;36m  Cell \u001B[1;32mIn[15], line 1\u001B[1;36m\u001B[0m\n\u001B[1;33m    pip3 install torch torchvision torchaudio --index-url https://download.pytorch.org/whl/cu118\u001B[0m\n\u001B[1;37m         ^\u001B[0m\n\u001B[1;31mSyntaxError\u001B[0m\u001B[1;31m:\u001B[0m invalid syntax\n"
     ]
    }
   ],
   "source": [],
   "metadata": {
    "collapsed": false
   }
  },
  {
   "cell_type": "code",
   "execution_count": null,
   "outputs": [],
   "source": [],
   "metadata": {
    "collapsed": false
   }
  }
 ],
 "metadata": {
  "kernelspec": {
   "display_name": "Python 3",
   "language": "python",
   "name": "python3"
  },
  "language_info": {
   "codemirror_mode": {
    "name": "ipython",
    "version": 2
   },
   "file_extension": ".py",
   "mimetype": "text/x-python",
   "name": "python",
   "nbconvert_exporter": "python",
   "pygments_lexer": "ipython2",
   "version": "2.7.6"
  }
 },
 "nbformat": 4,
 "nbformat_minor": 0
}
