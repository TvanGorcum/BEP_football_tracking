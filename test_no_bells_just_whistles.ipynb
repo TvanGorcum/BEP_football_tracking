{
 "cells": [
  {
   "cell_type": "code",
   "execution_count": 3,
   "metadata": {
    "collapsed": true
   },
   "outputs": [
    {
     "name": "stdout",
     "output_type": "stream",
     "text": [
      "Processing c:\\home\\conda\\feedstock_root\\build_artifacts\\brotli-split_1695989787169\\work (from -r C:/Studie/BEP/BEP_Football_tracking/BEP_football_tracking/No-Bells-Just-Whistles-main/requirements.txt (line 1))\n",
      "Note: you may need to restart the kernel to use updated packages.\n"
     ]
    },
    {
     "name": "stderr",
     "output_type": "stream",
     "text": [
      "ERROR: Could not install packages due to an OSError: [Errno 2] No such file or directory: 'C:\\\\home\\\\conda\\\\feedstock_root\\\\build_artifacts\\\\brotli-split_1695989787169\\\\work'\n",
      "\n"
     ]
    }
   ],
   "source": [
    "pip install -r C:/Studie/BEP/BEP_Football_tracking/BEP_football_tracking/No-Bells-Just-Whistles-main/requirements.txt"
   ]
  },
  {
   "cell_type": "code",
   "execution_count": 2,
   "outputs": [
    {
     "data": {
      "text/plain": "True"
     },
     "execution_count": 2,
     "metadata": {},
     "output_type": "execute_result"
    }
   ],
   "source": [],
   "metadata": {
    "collapsed": false
   }
  },
  {
   "cell_type": "code",
   "execution_count": null,
   "outputs": [],
   "source": [],
   "metadata": {
    "collapsed": false
   }
  }
 ],
 "metadata": {
  "kernelspec": {
   "display_name": "Python 3",
   "language": "python",
   "name": "python3"
  },
  "language_info": {
   "codemirror_mode": {
    "name": "ipython",
    "version": 2
   },
   "file_extension": ".py",
   "mimetype": "text/x-python",
   "name": "python",
   "nbconvert_exporter": "python",
   "pygments_lexer": "ipython2",
   "version": "2.7.6"
  }
 },
 "nbformat": 4,
 "nbformat_minor": 0
}
