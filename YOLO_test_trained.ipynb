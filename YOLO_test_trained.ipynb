{
 "cells": [
  {
   "cell_type": "markdown",
   "source": [
    "In this notebook. the .tune() function by ultralytics will be used to obtain reasonable hyperparameters that can be used for training the models"
   ],
   "metadata": {
    "collapsed": false
   }
  },
  {
   "cell_type": "code",
   "execution_count": 1,
   "outputs": [],
   "source": [
    "from ultralytics import YOLO\n",
    "import ultralytics"
   ],
   "metadata": {
    "collapsed": false
   }
  },
  {
   "cell_type": "code",
   "execution_count": 2,
   "outputs": [
    {
     "name": "stdout",
     "output_type": "stream",
     "text": [
      "Ultralytics YOLOv8.2.100  Python-3.10.11 torch-2.4.1+cu118 CUDA:0 (Quadro T1000 with Max-Q Design, 4096MiB)\n",
      "Setup complete  (12 CPUs, 15.8 GB RAM, 395.9/471.6 GB disk)\n"
     ]
    }
   ],
   "source": [
    "ultralytics.checks()"
   ],
   "metadata": {
    "collapsed": false
   }
  },
  {
   "cell_type": "code",
   "execution_count": 4,
   "outputs": [],
   "source": [
    "model = YOLO(\"C:/Studie/BEP/BEP_Football_tracking/BEP_football_tracking/YOLO_weights/yolov8n_20_epochs/Weights/epoch20.pt\")"
   ],
   "metadata": {
    "collapsed": false
   }
  },
  {
   "cell_type": "code",
   "execution_count": 17,
   "outputs": [
    {
     "name": "stdout",
     "output_type": "stream",
     "text": [
      "\n",
      "image 1/1 C:\\Studie\\BEP\\BEP_Football_tracking\\prototest_dataset\\images\\test\\SNMOT-116_000012.jpg: 192x320 19 players, 1 referee, 4 goalkeeperss, 24.3ms\n",
      "Speed: 620.9ms preprocess, 24.3ms inference, 4.0ms postprocess per image at shape (1, 3, 192, 320)\n",
      "Results saved to \u001B[1mruns\\detect\\predict\u001B[0m\n"
     ]
    },
    {
     "data": {
      "text/plain": "[ultralytics.engine.results.Results object with attributes:\n \n boxes: ultralytics.engine.results.Boxes object\n keypoints: None\n masks: None\n names: {0: 'ball', 1: 'player', 2: 'referee', 3: 'goalkeepers'}\n obb: None\n orig_img: array([[[ 67,  69,  70],\n         [ 67,  69,  70],\n         [ 66,  68,  69],\n         ...,\n         [ 14,  12,  11],\n         [ 12,  13,  11],\n         [  8,  11,   9]],\n \n        [[ 67,  69,  70],\n         [ 66,  68,  69],\n         [ 66,  68,  69],\n         ...,\n         [ 10,   5,   4],\n         [ 15,  11,  10],\n         [ 19,  15,  14]],\n \n        [[ 66,  68,  69],\n         [ 65,  67,  68],\n         [ 65,  67,  68],\n         ...,\n         [ 14,   6,   6],\n         [ 31,  21,  21],\n         [ 43,  33,  33]],\n \n        ...,\n \n        [[ 74, 139, 114],\n         [ 76, 141, 116],\n         [ 77, 143, 118],\n         ...,\n         [ 65, 139, 113],\n         [ 70, 144, 118],\n         [ 72, 146, 120]],\n \n        [[ 73, 138, 113],\n         [ 74, 139, 114],\n         [ 72, 140, 115],\n         ...,\n         [ 62, 136, 110],\n         [ 60, 134, 108],\n         [ 59, 133, 107]],\n \n        [[ 76, 141, 116],\n         [ 76, 141, 116],\n         [ 74, 142, 117],\n         ...,\n         [ 64, 138, 112],\n         [ 58, 132, 106],\n         [ 54, 128, 102]]], dtype=uint8)\n orig_shape: (1080, 1920)\n path: 'C:\\\\Studie\\\\BEP\\\\BEP_Football_tracking\\\\prototest_dataset\\\\images\\\\test\\\\SNMOT-116_000012.jpg'\n probs: None\n save_dir: 'runs\\\\detect\\\\predict'\n speed: {'preprocess': 620.9003925323486, 'inference': 24.273157119750977, 'postprocess': 4.000186920166016}]"
     },
     "execution_count": 17,
     "metadata": {},
     "output_type": "execute_result"
    }
   ],
   "source": [
    "model.predict(\"C:/Studie/BEP/BEP_Football_tracking/prototest_dataset/images/test/SNMOT-116_000012.jpg\", save=True, imgsz=320, conf=0.05, show_labels= False)"
   ],
   "metadata": {
    "collapsed": false
   }
  },
  {
   "cell_type": "code",
   "execution_count": 7,
   "outputs": [
    {
     "name": "stdout",
     "output_type": "stream",
     "text": [
      "Ultralytics YOLOv8.2.100  Python-3.10.11 torch-2.4.1+cu118 CUDA:0 (Quadro T1000 with Max-Q Design, 4096MiB)\n",
      "Setup complete  (12 CPUs, 15.8 GB RAM, 392.8/471.6 GB disk)\n"
     ]
    }
   ],
   "source": [
    "\n"
   ],
   "metadata": {
    "collapsed": false
   }
  },
  {
   "cell_type": "code",
   "execution_count": null,
   "outputs": [],
   "source": [],
   "metadata": {
    "collapsed": false
   }
  }
 ],
 "metadata": {
  "kernelspec": {
   "display_name": "Python 3",
   "language": "python",
   "name": "python3"
  },
  "language_info": {
   "codemirror_mode": {
    "name": "ipython",
    "version": 2
   },
   "file_extension": ".py",
   "mimetype": "text/x-python",
   "name": "python",
   "nbconvert_exporter": "python",
   "pygments_lexer": "ipython2",
   "version": "2.7.6"
  }
 },
 "nbformat": 4,
 "nbformat_minor": 0
}
