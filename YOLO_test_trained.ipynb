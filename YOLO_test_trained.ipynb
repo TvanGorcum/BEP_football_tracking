{
 "cells": [
  {
   "cell_type": "markdown",
   "source": [
    "In this notebook. the .tune() function by ultralytics will be used to obtain reasonable hyperparameters that can be used for training the models"
   ],
   "metadata": {
    "collapsed": false
   }
  },
  {
   "cell_type": "code",
   "execution_count": 1,
   "outputs": [],
   "source": [
    "from ultralytics import YOLO\n",
    "import ultralytics"
   ],
   "metadata": {
    "collapsed": false
   }
  },
  {
   "cell_type": "code",
   "execution_count": 2,
   "outputs": [
    {
     "name": "stdout",
     "output_type": "stream",
     "text": [
      "Ultralytics YOLOv8.2.100  Python-3.10.11 torch-2.4.1+cu118 CUDA:0 (Quadro T1000 with Max-Q Design, 4096MiB)\n",
      "Setup complete  (12 CPUs, 15.8 GB RAM, 395.9/471.6 GB disk)\n"
     ]
    }
   ],
   "source": [
    "ultralytics.checks()"
   ],
   "metadata": {
    "collapsed": false
   }
  },
  {
   "cell_type": "code",
   "execution_count": 4,
   "outputs": [],
   "source": [
    "model = YOLO(\"C:/Studie/BEP/BEP_Football_tracking/BEP_football_tracking/YOLO_weights/yolov8n_20_epochs/Weights/epoch20.pt\")"
   ],
   "metadata": {
    "collapsed": false
   }
  },
  {
   "cell_type": "code",
   "execution_count": 14,
   "outputs": [
    {
     "name": "stdout",
     "output_type": "stream",
     "text": [
      "\n",
      "image 1/1 C:\\Studie\\BEP\\BEP_Football_tracking\\prototest_dataset\\images\\external\\nlfra.jpg: 160x320 17 players, 1 referee, 21.9ms\n",
      "Speed: 2.0ms preprocess, 21.9ms inference, 7.0ms postprocess per image at shape (1, 3, 160, 320)\n",
      "Results saved to \u001B[1mruns\\detect\\predict\u001B[0m\n"
     ]
    },
    {
     "data": {
      "text/plain": "[ultralytics.engine.results.Results object with attributes:\n \n boxes: ultralytics.engine.results.Boxes object\n keypoints: None\n masks: None\n names: {0: 'ball', 1: 'player', 2: 'referee', 3: 'goalkeepers'}\n obb: None\n orig_img: array([[[ 45,  36,  57],\n         [ 55,  46,  66],\n         [ 72,  62,  79],\n         ...,\n         [ 45,  49,  74],\n         [ 41,  46,  67],\n         [ 41,  48,  65]],\n \n        [[ 42,  32,  55],\n         [ 53,  44,  65],\n         [ 66,  55,  75],\n         ...,\n         [ 42,  46,  74],\n         [ 40,  46,  69],\n         [ 37,  44,  63]],\n \n        [[ 41,  32,  59],\n         [ 53,  41,  69],\n         [ 60,  47,  73],\n         ...,\n         [ 38,  43,  74],\n         [ 39,  46,  73],\n         [ 35,  43,  66]],\n \n        ...,\n \n        [[ 40, 107,  86],\n         [ 40, 107,  86],\n         [ 43, 108,  87],\n         ...,\n         [ 27,  96,  75],\n         [ 23,  96,  74],\n         [ 22,  95,  73]],\n \n        [[ 41, 104,  84],\n         [ 41, 104,  84],\n         [ 43, 104,  84],\n         ...,\n         [ 28,  97,  76],\n         [ 25,  98,  76],\n         [ 24,  97,  75]],\n \n        [[ 44, 103,  83],\n         [ 44, 103,  83],\n         [ 45, 101,  82],\n         ...,\n         [ 29,  98,  77],\n         [ 26,  99,  77],\n         [ 25,  98,  76]]], dtype=uint8)\n orig_shape: (831, 1799)\n path: 'C:\\\\Studie\\\\BEP\\\\BEP_Football_tracking\\\\prototest_dataset\\\\images\\\\external\\\\nlfra.jpg'\n probs: None\n save_dir: 'runs\\\\detect\\\\predict'\n speed: {'preprocess': 1.9955635070800781, 'inference': 21.91615104675293, 'postprocess': 6.981611251831055}]"
     },
     "execution_count": 14,
     "metadata": {},
     "output_type": "execute_result"
    }
   ],
   "source": [
    "model.predict(\"C:/Studie/BEP/BEP_Football_tracking/prototest_dataset/images/external/nlfra.jpg\", save=True, imgsz=320, conf=0.25, show_labels= False)"
   ],
   "metadata": {
    "collapsed": false
   }
  },
  {
   "cell_type": "code",
   "execution_count": 7,
   "outputs": [
    {
     "name": "stdout",
     "output_type": "stream",
     "text": [
      "Ultralytics YOLOv8.2.100  Python-3.10.11 torch-2.4.1+cu118 CUDA:0 (Quadro T1000 with Max-Q Design, 4096MiB)\n",
      "Setup complete  (12 CPUs, 15.8 GB RAM, 392.8/471.6 GB disk)\n"
     ]
    }
   ],
   "source": [
    "\n"
   ],
   "metadata": {
    "collapsed": false
   }
  },
  {
   "cell_type": "code",
   "execution_count": null,
   "outputs": [],
   "source": [],
   "metadata": {
    "collapsed": false
   }
  }
 ],
 "metadata": {
  "kernelspec": {
   "display_name": "Python 3",
   "language": "python",
   "name": "python3"
  },
  "language_info": {
   "codemirror_mode": {
    "name": "ipython",
    "version": 2
   },
   "file_extension": ".py",
   "mimetype": "text/x-python",
   "name": "python",
   "nbconvert_exporter": "python",
   "pygments_lexer": "ipython2",
   "version": "2.7.6"
  }
 },
 "nbformat": 4,
 "nbformat_minor": 0
}
