{
 "cells": [
  {
   "cell_type": "markdown",
   "source": [
    "First make sure frames that have no predictions, empty file, number of frame as title. For files that have a predition the format is as follows: 0 0.2609 0.3657 0.009896 0.01389"
   ],
   "metadata": {
    "collapsed": false
   }
  },
  {
   "cell_type": "code",
   "execution_count": 30,
   "outputs": [],
   "source": [
    "import os\n",
    "import cv2\n",
    "import numpy as np"
   ],
   "metadata": {
    "collapsed": false
   }
  },
  {
   "cell_type": "code",
   "execution_count": 35,
   "outputs": [],
   "source": [
    "def add_missing_frame_files(folder_path):\n",
    "    \"\"\"\n",
    "    Ensures that every frame number from 1 to 750 has a corresponding .txt file in the folder.\n",
    "    If a .txt file is missing, it creates an empty one.\n",
    "\n",
    "    Parameters:\n",
    "        folder_path (str): Path to the folder containing the .txt files.\n",
    "    \"\"\"\n",
    "    try:\n",
    "        # List all files in the folder\n",
    "        existing_files = os.listdir(folder_path)\n",
    "\n",
    "        # Extract numbers from filenames (assume filenames are like '1.txt', '2.txt', etc.)\n",
    "        existing_frame_numbers = {\n",
    "            int(file.split('.')[0]) for file in existing_files if file.endswith('.txt') and file.split('.')[0].isdigit()\n",
    "        }\n",
    "\n",
    "        # Define the full range of frame numbers\n",
    "        full_range = set(range(1, 728))\n",
    "\n",
    "        # Find missing frame numbers\n",
    "        missing_frames = full_range - existing_frame_numbers\n",
    "\n",
    "        # Create empty .txt files for missing frames\n",
    "        for frame in missing_frames:\n",
    "            empty_file_path = os.path.join(folder_path, f\"{frame}.txt\")\n",
    "            with open(empty_file_path, 'w') as empty_file:\n",
    "                pass  # Create an empty file\n",
    "\n",
    "        print(f\"Added {len(missing_frames)} missing frame files.\")\n",
    "\n",
    "    except Exception as e:\n",
    "        print(f\"An error occurred: {e}\")\n",
    "\n"
   ],
   "metadata": {
    "collapsed": false
   }
  },
  {
   "cell_type": "code",
   "execution_count": 36,
   "outputs": [
    {
     "name": "stdout",
     "output_type": "stream",
     "text": [
      "Added 17 missing frame files.\n"
     ]
    }
   ],
   "source": [
    "add_missing_frame_files(\"C:/Studie/BEP/BEP_Football_tracking/Dataset_ball_eval/sequences/labels/nl_sample\")"
   ],
   "metadata": {
    "collapsed": false
   }
  },
  {
   "cell_type": "code",
   "execution_count": 37,
   "outputs": [],
   "source": [
    "def create_video_with_annotations(image_folder, annotation_folder, output_video, fps=30):\n",
    "    \"\"\"\n",
    "    Create a video with bounding box visualizations from images and annotations.\n",
    "\n",
    "    Args:\n",
    "        image_folder (str): Path to the folder containing images (e.g., 0001.jpg, 0002.jpg, ...).\n",
    "        annotation_folder (str): Path to the folder containing annotation text files (e.g., 1.txt, 2.txt, ...).\n",
    "        output_video (str): Path to the output video file (e.g., output.mp4).\n",
    "        fps (int): Frames per second for the output video.\n",
    "    \"\"\"\n",
    "    import os\n",
    "    import cv2\n",
    "\n",
    "    # Get sorted list of image files and annotation files\n",
    "    image_files = sorted([f for f in os.listdir(image_folder) if f.endswith('.jpg')])\n",
    "    annotation_files = sorted([f for f in os.listdir(annotation_folder) if f.endswith('.txt')],\n",
    "                               key=lambda x: int(x.split('.')[0]))\n",
    "\n",
    "    # Ensure image and annotation counts align\n",
    "    if len(image_files) != len(annotation_files):\n",
    "        raise ValueError(\"Number of images and annotations do not match.\")\n",
    "\n",
    "    # Read the first image to get dimensions\n",
    "    first_image_path = os.path.join(image_folder, image_files[0])\n",
    "    first_image = cv2.imread(first_image_path)\n",
    "    height, width, _ = first_image.shape\n",
    "\n",
    "    # Initialize video writer\n",
    "    fourcc = cv2.VideoWriter_fourcc(*'mp4v')\n",
    "    video_writer = cv2.VideoWriter(output_video, fourcc, fps, (width, height))\n",
    "\n",
    "    for image_file, annotation_file in zip(image_files, annotation_files):\n",
    "        # Read image\n",
    "        image_path = os.path.join(image_folder, image_file)\n",
    "        image = cv2.imread(image_path)\n",
    "\n",
    "        # Read annotation\n",
    "        annotation_path = os.path.join(annotation_folder, annotation_file)\n",
    "        if os.path.getsize(annotation_path) > 0:  # Check if file is not empty\n",
    "            with open(annotation_path, 'r') as f:\n",
    "                bbox = eval(f.read().strip())  # Safely parse the list\n",
    "\n",
    "            # Draw bounding box on the image\n",
    "            x, y, w, h = bbox\n",
    "            top_left = (x, y)\n",
    "            bottom_right = (x + w, y + h)\n",
    "            color = (0, 0, 255)\n",
    "            thickness = 2\n",
    "            cv2.rectangle(image, top_left, bottom_right, color, thickness)\n",
    "\n",
    "        # Add frame to video\n",
    "        video_writer.write(image)\n",
    "\n",
    "    # Release the video writer\n",
    "    video_writer.release()\n",
    "    print(f\"Video saved to {output_video}\")"
   ],
   "metadata": {
    "collapsed": false
   }
  },
  {
   "cell_type": "code",
   "execution_count": 38,
   "outputs": [
    {
     "name": "stdout",
     "output_type": "stream",
     "text": [
      "Video saved to C:/Studie/BEP/BEP_Football_tracking/Dataset_ball_eval/sequences/videos/nl_sample.mp4\n"
     ]
    }
   ],
   "source": [
    "path_to_images = 'C:/Studie/BEP/BEP_Football_tracking/Dataset_ball_eval/sequences/imgs/nl_sample'\n",
    "path_to_annotations = 'C:/Studie/BEP/BEP_Football_tracking/Dataset_ball_eval/sequences/labels/nl_sample'\n",
    "output_video = 'C:/Studie/BEP/BEP_Football_tracking/Dataset_ball_eval/sequences/videos/nl_sample.mp4'\n",
    "\n",
    "create_video_with_annotations(path_to_images, path_to_annotations, output_video)"
   ],
   "metadata": {
    "collapsed": false
   }
  },
  {
   "cell_type": "markdown",
   "source": [
    "Convert"
   ],
   "metadata": {
    "collapsed": false
   }
  },
  {
   "cell_type": "markdown",
   "source": [],
   "metadata": {
    "collapsed": false
   }
  }
 ],
 "metadata": {
  "kernelspec": {
   "display_name": "Python 3",
   "language": "python",
   "name": "python3"
  },
  "language_info": {
   "codemirror_mode": {
    "name": "ipython",
    "version": 2
   },
   "file_extension": ".py",
   "mimetype": "text/x-python",
   "name": "python",
   "nbconvert_exporter": "python",
   "pygments_lexer": "ipython2",
   "version": "2.7.6"
  }
 },
 "nbformat": 4,
 "nbformat_minor": 0
}
