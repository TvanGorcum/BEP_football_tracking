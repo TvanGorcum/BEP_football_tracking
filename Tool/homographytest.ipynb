{
 "cells": [
  {
   "cell_type": "code",
   "execution_count": 3,
   "metadata": {
    "collapsed": true
   },
   "outputs": [],
   "source": [
    "import numpy as np"
   ]
  },
  {
   "cell_type": "code",
   "execution_count": 53,
   "outputs": [],
   "source": [
    "\n",
    "u = 4500\n",
    "v = 8000\n",
    "P_LEFTTOP = np.array([[2.95129075e+03, -2.82185939e+03, 1.57759623e+02, 1.41552395e+05],\n",
    "              [-3.97081557e-01, 3.99639466e+01, 4.00827873e+03, 3.72912795e+04],\n",
    "              [-4.99372034e-01, -8.54472868e-01, 1.43191094e-01, 4.48297288e+01]])\n",
    "\n",
    "P_CENTER = np.array([[4.44365090e+03, -3.90197381e+02, 2.21990980e+02, 3.62449157e+04],  # Example camera projection matrix\n",
    "              [-6.11777948e+01, 4.61190201e+02, 4.37048375e+03, 3.81440740e+04],\n",
    "              [1.19823975e-01, -9.66444490e-01, 2.27216334e-01, 8.46945190e+01]])\n",
    "\n",
    "P_RIGHTTOP = np.array ([[ 2.29866174e+03, 8.69940269e+02, 1.68312186e+02,-5.53368068e+04],\n",
    "             [-1.51913690e+02, 2.03340472e+02, 2.39260229e+03, 3.14051325e+04],\n",
    "             [ 5.58782189e-01, -7.89760745e-01, 2.53062111e-01, 5.33783778e+01]])\n",
    "\n",
    "# Homogeneous 2D point in screen coordinates\n",
    "image_coords = np.array([u + 105/2, v + 68/2, 1])  # Add offsets to match reverse process\n",
    "\n",
    "# Reduced 3x3 projection matrix P'\n",
    "P_reduced = P_CENTER[:, [0, 1, 3]]  # Remove the third column (Z terms)\n",
    "\n",
    "# Compute inverse of P'\n",
    "P_reduced_inv = np.linalg.inv(P_reduced)\n",
    "\n",
    "# Compute 3D world coordinates (Z = 0 plane)\n",
    "world_coords_homogeneous = P_reduced_inv @ image_coords\n",
    "X, Y = world_coords_homogeneous[:2]\n",
    "\n",
    "print(f\"Real-world coordinates: X = {X}, Y = {Y}\")"
   ],
   "metadata": {
    "collapsed": false
   }
  },
  {
   "cell_type": "code",
   "execution_count": 53,
   "outputs": [],
   "source": [
    "def pixel_to_pitch_location(pixel_coords, projection_matrix):\n",
    "    \"\"\"\n",
    "    Converts pixel coordinates to real-world pitch coordinates assuming z=0.\n",
    "\n",
    "    Parameters:\n",
    "    - pixel_coords: tuple (x, y), the pixel coordinates in the image.\n",
    "    - projection_matrix: numpy array (3x4), the camera projection matrix.\n",
    "\n",
    "    Returns:\n",
    "    - Tuple (x_world, y_world) representing the real-world coordinates on the pitch.\n",
    "    \"\"\"\n",
    "    # Homogeneous representation of the 2D pixel coordinates (x, y)\n",
    "\n",
    "    pixel_homogeneous = np.array([x, y, 1])\n",
    "\n",
    "    # Extracting the homography matrix H (3x3) for the plane z=0 from P\n",
    "    P = projection_matrix[:, :3]  # First three columns of P\n",
    "    H_inv = np.linalg.inv(P)      # Inverse of the homography matrix\n",
    "\n",
    "    # Project pixel to world coordinates on plane z=0\n",
    "    world_coords_homogeneous = H_inv @ pixel_homogeneous\n",
    "    world_coords_homogeneous /= world_coords_homogeneous[2]  # Normalize to make z=1\n",
    "\n",
    "    x_world, y_world = world_coords_homogeneous[0], world_coords_homogeneous[1]\n",
    "    return x_world, y_world"
   ],
   "metadata": {
    "collapsed": false
   }
  },
  {
   "cell_type": "code",
   "execution_count": 53,
   "outputs": [],
   "source": [
    "pixel_coords = u, v\n",
    "pixel_to_pitch_location(pixel_coords, P)"
   ],
   "metadata": {
    "collapsed": false
   }
  },
  {
   "cell_type": "code",
   "execution_count": 53,
   "outputs": [],
   "source": [
    "# Define the matrix\n",
    "P_LEFTTOP = np.array([[2.95129075e+03, -2.82185939e+03, 1.57759623e+02, 1.41552395e+05],\n",
    "                   [-3.97081557e-01, 3.99639466e+01, 4.00827873e+03, 3.72912795e+04],\n",
    "                   [-4.99372034e-01, -8.54472868e-01, 1.43191094e-01, 4.48297288e+01]])\n",
    "\n",
    "P_CENTER = np.array([[4.44365090e+03, -3.90197381e+02, 2.21990980e+02, 3.62449157e+04],  # Example camera projection matrix\n",
    "              [-6.11777948e+01, 4.61190201e+02, 4.37048375e+03, 3.81440740e+04],\n",
    "              [1.19823975e-01, -9.66444490e-01, 2.27216334e-01, 8.46945190e+01]])\n",
    "\n",
    "pixel_coords = np.array([822, 356, 1.0])\n",
    "# Compute the pseudo-inverse\n"
   ],
   "metadata": {
    "collapsed": false
   }
  },
  {
   "cell_type": "code",
   "execution_count": 53,
   "outputs": [],
   "source": [
    "P_plus = np.linalg.pinv(P_LEFTTOP)\n",
    "\n",
    "# Compute the 3D world coordinates\n",
    "world_coords = P_plus @ pixel_coords\n",
    "\n",
    "# Since Z = 0 in the world plane, we discard the Z-coordinate\n",
    "world_coords_2d = world_coords[:2]  # Only X and Y\n",
    "\n",
    "# Real-world plane dimensions (meters)\n",
    "plane_width_meters = 105\n",
    "plane_height_meters = 65\n",
    "\n",
    "# Image dimensions (pixels)\n",
    "image_width_pixels = 1920\n",
    "image_height_pixels = 1080\n",
    "\n",
    "# Scaling factors from pixels to meters\n",
    "scale_x = plane_width_meters / image_width_pixels\n",
    "scale_y = plane_height_meters / image_height_pixels\n",
    "\n",
    "# Convert world coordinates from pixels to meters\n",
    "x_real_world = world_coords_2d[0] * scale_x\n",
    "y_real_world = world_coords_2d[1] * scale_y\n",
    "\n",
    "print(f\"Real-world coordinates (in meters): X = {x_real_world}, Y = {y_real_world}\")"
   ],
   "metadata": {
    "collapsed": false
   }
  },
  {
   "cell_type": "code",
   "execution_count": null,
   "outputs": [],
   "source": [],
   "metadata": {
    "collapsed": false
   }
  }
 ],
 "metadata": {
  "kernelspec": {
   "display_name": "Python 3",
   "language": "python",
   "name": "python3"
  },
  "language_info": {
   "codemirror_mode": {
    "name": "ipython",
    "version": 2
   },
   "file_extension": ".py",
   "mimetype": "text/x-python",
   "name": "python",
   "nbconvert_exporter": "python",
   "pygments_lexer": "ipython2",
   "version": "2.7.6"
  }
 },
 "nbformat": 4,
 "nbformat_minor": 0
}
